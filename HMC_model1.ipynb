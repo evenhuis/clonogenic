{
 "cells": [
  {
   "cell_type": "code",
   "execution_count": 342,
   "metadata": {},
   "outputs": [],
   "source": [
    "%matplotlib inline\n",
    "import matplotlib.pyplot as plt\n",
    "import numpy as np\n",
    "import pandas as pd\n",
    "import os\n",
    "import pymc3 as pm\n",
    "import importlib\n",
    "import pymc3_utils as pu    ; importlib.reload(pu);\n",
    "import cologenic_utils as cu; importlib.reload(cu);"
   ]
  },
  {
   "cell_type": "markdown",
   "metadata": {},
   "source": [
    "# Read in the data"
   ]
  },
  {
   "cell_type": "markdown",
   "metadata": {},
   "source": [
    "Read in the data from each plate run from `combined_results.csv` files."
   ]
  },
  {
   "cell_type": "code",
   "execution_count": 343,
   "metadata": {},
   "outputs": [],
   "source": [
    "from glob import glob\n",
    "files=glob(\"analysis-strip/UWB1 pair/*/combined_results.csv\")\\\n",
    "     +glob(\"analysis-strip/summary/*/combined_results.csv\")\n",
    "dfs=[]\n",
    "for i,file in enumerate(files[:]):\n",
    "    df = pd.read_csv(file)\n",
    "    df['plate']=i\n",
    "    dfs.append(df)\n",
    "df = pd.concat(dfs,ignore_index=True)"
   ]
  },
  {
   "cell_type": "markdown",
   "metadata": {},
   "source": [
    "Add indices to group by cell line, drug and (cell_line x drug )"
   ]
  },
  {
   "cell_type": "code",
   "execution_count": 344,
   "metadata": {},
   "outputs": [],
   "source": [
    "df['i_exp'],df['exp_code']=pu.multilabel_encoder(df,'Cell_line Drug plate'.split(),delim='|')\n",
    "df['i_cell'],_            =pu.multilabel_encoder(df,'Cell_line'.split(),delim='|')\n",
    "df['i_drug'],_            =pu.multilabel_encoder(df,'Drug'.split(),delim='|')\n",
    "df['i_drugcell'],_        =pu.multilabel_encoder(df,'Drug Cell_line'.split(),delim='|')"
   ]
  },
  {
   "cell_type": "markdown",
   "metadata": {},
   "source": [
    "These are indices of that embed the various subgroups to the experimential data."
   ]
  },
  {
   "cell_type": "code",
   "execution_count": 345,
   "metadata": {},
   "outputs": [],
   "source": [
    "cell2ind     = pu.embeded_index(df,'i_exp','i_cell')\n",
    "drug2ind     = pu.embeded_index(df,'i_exp','i_drug')\n",
    "drugcell2ind = pu.embeded_index(df,'i_exp','i_drugcell')\n",
    "drug2drugcell= pu.embeded_index(df,'i_drugcell','i_drug')\n"
   ]
  },
  {
   "cell_type": "markdown",
   "metadata": {
    "heading_collapsed": true
   },
   "source": [
    "### Fit a single data set - logit transform\n"
   ]
  },
  {
   "cell_type": "code",
   "execution_count": 295,
   "metadata": {
    "hidden": true
   },
   "outputs": [],
   "source": [
    "mask = df['i_exp']==5\n",
    "dft=df[mask]\n",
    "cells_plated = dft['Cells Plated'].values\n",
    "concs        = dft['Treatment'].values\n",
    "counts       = dft['Count'].values\n",
    "#cells_plated,concs,counts,label = extract_data(df,5)\n",
    "\n",
    "with pm.Model() as plated_model:\n",
    "\n",
    "    \n",
    "    PE_a = pm.Lognormal(\"PE_a\",2,0.2)\n",
    "    PE_b = pm.Lognormal(\"PE_b\",4,0.2)\n",
    "    PE = pm.Beta(\"PE\",alpha=PE_a,beta=PE_b)\n",
    "    #PE = pm.Beta(\"PE\",alpha=2,beta=4)#,shape=12)\n",
    "    mu_attach = pm.Deterministic(\"mu_attach\",cells_plated*PE)\n",
    "\n",
    "    # model coefficents\n",
    "    alpha = pm.Lognormal('alpha',mu=np.log(0.1),sd=0.4)\n",
    "    beta  = pm.Lognormal('beta', mu=np.log(0.01),sd=0.4)\n",
    " \n",
    "    #nb_alpha = pm.HalfNormal('nb_alpha',0.02)\n",
    "\n",
    "    model = pm.Deterministic('model',mu_attach*pm.math.exp(-alpha*concs-(beta*concs)**2))\n",
    "    #yi = pm.NegativeBinomial('yi',mu=model,alpha=1/nb_alpha**2,observed=counts)\n",
    "    yi = pm.Poisson('yi',mu=model,observed=counts)"
   ]
  },
  {
   "cell_type": "code",
   "execution_count": null,
   "metadata": {
    "hidden": true
   },
   "outputs": [],
   "source": [
    "with plated_model:\n",
    "    trace = pm.sample()"
   ]
  },
  {
   "cell_type": "code",
   "execution_count": 22,
   "metadata": {
    "hidden": true
   },
   "outputs": [],
   "source": [
    "def loglike(theta,df):\n",
    "    PE,a,b = theta[:3]\n",
    "    c = dft['Treatment']\n",
    "    return(-sum(stats.poisson.pmf( dft['Count'],dft['Cells Plated']*abs(PE)*np.exp( -abs(a)*c - abs(b*c)**2 ) )))"
   ]
  },
  {
   "cell_type": "code",
   "execution_count": 18,
   "metadata": {
    "hidden": true
   },
   "outputs": [],
   "source": [
    "from matplotlib.ticker import FuncFormatter,NullFormatter\n",
    "def pow2formatter(x,pos):\n",
    "    if( x==0): return '0'\n",
    "    if( x==1): return '1'\n",
    "    if( x>1 ): \n",
    "        n = np.round(np.log2(x))\n",
    "        return r'${x}$'.format(x=int(x))\n",
    "        #return r'$2^{n}$'.format(n=int(n))\n",
    "    if( x<1 ): \n",
    "        n = -np.round(np.log2(x))\n",
    "        return r'$\\frac{{1}}{{{x}}}$'.format(x=int(1/x))\n",
    "        #return r'$\\frac{{1}}{{2^{n}}}$'.format(n=int(n))\n"
   ]
  },
  {
   "cell_type": "code",
   "execution_count": 17,
   "metadata": {
    "hidden": true
   },
   "outputs": [],
   "source": [
    "def posterior_comp( ax, df, trace, ind):\n",
    "    ''''''\n",
    "    # get the experimental unit\n",
    "    dft = df[df['i_exp']==ind].copy()\n",
    "    dft.sort_values('Treatment',inplace=True)\n",
    "\n",
    "    ax.plot(dft['Treatment'],dft['Count'],'o')\n",
    "\n",
    "\n",
    "    pulls = pull_post(trace,'PE alpha beta'.split(),ind)\n",
    "    \n",
    "    xp = np.array([0]+np.power(10,np.linspace(-5,2,61)))\n",
    "    nsamp=400\n",
    "    samps = np.zeros([nsamp,len(xp)])\n",
    "    cp = np.median(dft['Cells Plated'])\n",
    "    for i in range(nsamp):\n",
    "        ir = np.random.randint(pulls.shape[0])\n",
    "        samps[i] =LQ_model(xp, cp*pulls[ir,0],pulls[ir,1],pulls[ir,2])\n",
    "    perc_plot(ax,xp,samps,color='red')\n",
    "    \n",
    "def posterior_comp_sigmoid( ax, df, trace, ind):\n",
    "    # get the experimental unit\n",
    "    dft = df[df['i_exp']==ind].copy()\n",
    "    dft.sort_values('Treatment',inplace=True)\n",
    "\n",
    "    ax.plot(dft['Treatment'],dft['Count'],'o')\n",
    "\n",
    "\n",
    "    pulls = pull_post(trace,'PE sfrac LC50 slope nu'.split(),ind)\n",
    "    \n",
    "    xp = np.array([0]+np.power(10,np.linspace(-5,2,61)))\n",
    "    nsamp=400\n",
    "    samps = np.zeros([nsamp,len(xp)])\n",
    "    cp = np.median(dft['Cells Plated'])\n",
    "    for i in range(nsamp):\n",
    "        ir = np.random.randint(pulls.shape[0])\n",
    "        samps[i] =cp*pulls[ir,0]*sigmoid_curve(xp,*pulls[ir,1:])\n",
    "    perc_plot(ax,xp,samps,color='red')\n"
   ]
  },
  {
   "cell_type": "markdown",
   "metadata": {},
   "source": [
    "### Fit whole dataset"
   ]
  },
  {
   "cell_type": "code",
   "execution_count": 346,
   "metadata": {},
   "outputs": [],
   "source": [
    "exp_idx      = df['i_exp'].values; nexp   = max(exp_idx)+1\n",
    "counts       = df['Count'].values; ncount = len(counts)\n",
    "concs        = df['Treatment'].values\n",
    "cells_plated = df['Cells Plated'].values\n",
    "labels       = df['Experiment Title'].values"
   ]
  },
  {
   "cell_type": "code",
   "execution_count": 347,
   "metadata": {},
   "outputs": [],
   "source": [
    "import theano.tensor as tt\n",
    "with pm.Model() as hm_test:\n",
    "    PE_lo = pm.Normal('PE_lo',mu=-0.3, sd=3, shape=nexp)\n",
    "    PE    = pm.Deterministic('PE', cu.invlogit(PE_lo) )\n",
    "    mu_attach = pm.Deterministic(\"mu_attach\",cells_plated*PE[exp_idx])\n",
    "    \n",
    "    alpha = pm.Lognormal('alpha',mu=np.log(2),sd=0.5,shape=nexp)\n",
    "    beta  = pm.Lognormal('beta', mu=np.log(0.1),sd=0.5,shape=nexp)\n",
    "    \n",
    "\n",
    "    model = cu.LQ_model( concs, mu_attach, alpha[exp_idx],beta[exp_idx]) \n",
    "    #yi = pm.NegativeBinomial('yi',mu=model,alpha=1/nb_al\n",
    "    yi = pm.Poisson('yi',mu=model,observed=counts)"
   ]
  },
  {
   "cell_type": "code",
   "execution_count": 348,
   "metadata": {},
   "outputs": [
    {
     "data": {
      "image/svg+xml": [
       "<?xml version=\"1.0\" encoding=\"UTF-8\" standalone=\"no\"?>\n",
       "<!DOCTYPE svg PUBLIC \"-//W3C//DTD SVG 1.1//EN\"\n",
       " \"http://www.w3.org/Graphics/SVG/1.1/DTD/svg11.dtd\">\n",
       "<!-- Generated by graphviz version 2.42.3 (20191010.1750)\n",
       " -->\n",
       "<!-- Title: %3 Pages: 1 -->\n",
       "<svg width=\"514pt\" height=\"324pt\"\n",
       " viewBox=\"0.00 0.00 514.00 324.00\" xmlns=\"http://www.w3.org/2000/svg\" xmlns:xlink=\"http://www.w3.org/1999/xlink\">\n",
       "<g id=\"graph0\" class=\"graph\" transform=\"scale(1 1) rotate(0) translate(4 320)\">\n",
       "<title>%3</title>\n",
       "<polygon fill=\"white\" stroke=\"transparent\" points=\"-4,4 -4,-320 510,-320 510,4 -4,4\"/>\n",
       "<g id=\"clust1\" class=\"cluster\">\n",
       "<title>cluster50</title>\n",
       "<path fill=\"none\" stroke=\"black\" d=\"M20,-162C20,-162 486,-162 486,-162 492,-162 498,-168 498,-174 498,-174 498,-296 498,-296 498,-302 492,-308 486,-308 486,-308 20,-308 20,-308 14,-308 8,-302 8,-296 8,-296 8,-174 8,-174 8,-168 14,-162 20,-162\"/>\n",
       "<text text-anchor=\"middle\" x=\"483\" y=\"-168.8\" font-family=\"Times,serif\" font-size=\"14.00\">50</text>\n",
       "</g>\n",
       "<g id=\"clust2\" class=\"cluster\">\n",
       "<title>cluster600</title>\n",
       "<path fill=\"none\" stroke=\"black\" d=\"M53,-8C53,-8 211,-8 211,-8 217,-8 223,-14 223,-20 223,-20 223,-142 223,-142 223,-148 217,-154 211,-154 211,-154 53,-154 53,-154 47,-154 41,-148 41,-142 41,-142 41,-20 41,-20 41,-14 47,-8 53,-8\"/>\n",
       "<text text-anchor=\"middle\" x=\"204.5\" y=\"-14.8\" font-family=\"Times,serif\" font-size=\"14.00\">600</text>\n",
       "</g>\n",
       "<!-- PE_lo -->\n",
       "<g id=\"node1\" class=\"node\">\n",
       "<title>PE_lo</title>\n",
       "<ellipse fill=\"none\" stroke=\"black\" cx=\"84\" cy=\"-282\" rx=\"67.9\" ry=\"18\"/>\n",
       "<text text-anchor=\"middle\" x=\"84\" y=\"-277.8\" font-family=\"Times,serif\" font-size=\"14.00\">PE_lo ~ Normal</text>\n",
       "</g>\n",
       "<!-- PE -->\n",
       "<g id=\"node3\" class=\"node\">\n",
       "<title>PE</title>\n",
       "<polygon fill=\"none\" stroke=\"black\" points=\"169.61,-228 46.39,-228 46.39,-192 169.61,-192 169.61,-228\"/>\n",
       "<text text-anchor=\"middle\" x=\"108\" y=\"-205.8\" font-family=\"Times,serif\" font-size=\"14.00\">PE ~ Deterministic</text>\n",
       "</g>\n",
       "<!-- PE_lo&#45;&gt;PE -->\n",
       "<g id=\"edge1\" class=\"edge\">\n",
       "<title>PE_lo&#45;&gt;PE</title>\n",
       "<path fill=\"none\" stroke=\"black\" d=\"M89.81,-264.05C92.51,-256.18 95.79,-246.62 98.81,-237.79\"/>\n",
       "<polygon fill=\"black\" stroke=\"black\" points=\"102.14,-238.87 102.08,-228.28 95.52,-236.6 102.14,-238.87\"/>\n",
       "</g>\n",
       "<!-- beta -->\n",
       "<g id=\"node2\" class=\"node\">\n",
       "<title>beta</title>\n",
       "<ellipse fill=\"none\" stroke=\"black\" cx=\"243\" cy=\"-282\" rx=\"73.17\" ry=\"18\"/>\n",
       "<text text-anchor=\"middle\" x=\"243\" y=\"-277.8\" font-family=\"Times,serif\" font-size=\"14.00\">beta ~ Lognormal</text>\n",
       "</g>\n",
       "<!-- yi -->\n",
       "<g id=\"node6\" class=\"node\">\n",
       "<title>yi</title>\n",
       "<ellipse fill=\"lightgrey\" stroke=\"black\" cx=\"161\" cy=\"-56\" rx=\"53.93\" ry=\"18\"/>\n",
       "<text text-anchor=\"middle\" x=\"161\" y=\"-51.8\" font-family=\"Times,serif\" font-size=\"14.00\">yi ~ Poisson</text>\n",
       "</g>\n",
       "<!-- beta&#45;&gt;yi -->\n",
       "<g id=\"edge3\" class=\"edge\">\n",
       "<title>beta&#45;&gt;yi</title>\n",
       "<path fill=\"none\" stroke=\"black\" d=\"M245.1,-263.76C248.21,-231.47 251.04,-160.57 224,-110 217.23,-97.34 206.08,-86.46 195.03,-77.91\"/>\n",
       "<polygon fill=\"black\" stroke=\"black\" points=\"196.82,-74.88 186.67,-71.83 192.7,-80.55 196.82,-74.88\"/>\n",
       "</g>\n",
       "<!-- mu_attach -->\n",
       "<g id=\"node5\" class=\"node\">\n",
       "<title>mu_attach</title>\n",
       "<polygon fill=\"none\" stroke=\"black\" points=\"214.58,-146 49.42,-146 49.42,-110 214.58,-110 214.58,-146\"/>\n",
       "<text text-anchor=\"middle\" x=\"132\" y=\"-123.8\" font-family=\"Times,serif\" font-size=\"14.00\">mu_attach ~ Deterministic</text>\n",
       "</g>\n",
       "<!-- PE&#45;&gt;mu_attach -->\n",
       "<g id=\"edge2\" class=\"edge\">\n",
       "<title>PE&#45;&gt;mu_attach</title>\n",
       "<path fill=\"none\" stroke=\"black\" d=\"M113.21,-191.64C116.34,-181.19 120.4,-167.67 123.94,-155.86\"/>\n",
       "<polygon fill=\"black\" stroke=\"black\" points=\"127.36,-156.63 126.88,-146.05 120.66,-154.62 127.36,-156.63\"/>\n",
       "</g>\n",
       "<!-- alpha -->\n",
       "<g id=\"node4\" class=\"node\">\n",
       "<title>alpha</title>\n",
       "<ellipse fill=\"none\" stroke=\"black\" cx=\"412\" cy=\"-282\" rx=\"77.52\" ry=\"18\"/>\n",
       "<text text-anchor=\"middle\" x=\"412\" y=\"-277.8\" font-family=\"Times,serif\" font-size=\"14.00\">alpha ~ Lognormal</text>\n",
       "</g>\n",
       "<!-- alpha&#45;&gt;yi -->\n",
       "<g id=\"edge5\" class=\"edge\">\n",
       "<title>alpha&#45;&gt;yi</title>\n",
       "<path fill=\"none\" stroke=\"black\" d=\"M397.95,-264.18C370.57,-231.98 307.27,-160.36 245,-110 229.98,-97.85 212.02,-86.19 196.57,-76.91\"/>\n",
       "<polygon fill=\"black\" stroke=\"black\" points=\"198.2,-73.81 187.81,-71.74 194.64,-79.84 198.2,-73.81\"/>\n",
       "</g>\n",
       "<!-- mu_attach&#45;&gt;yi -->\n",
       "<g id=\"edge4\" class=\"edge\">\n",
       "<title>mu_attach&#45;&gt;yi</title>\n",
       "<path fill=\"none\" stroke=\"black\" d=\"M139.17,-109.7C142.43,-101.81 146.37,-92.3 150,-83.55\"/>\n",
       "<polygon fill=\"black\" stroke=\"black\" points=\"153.32,-84.68 153.91,-74.1 146.85,-82 153.32,-84.68\"/>\n",
       "</g>\n",
       "</g>\n",
       "</svg>\n"
      ],
      "text/plain": [
       "<graphviz.dot.Digraph at 0x1a3d317a58>"
      ]
     },
     "execution_count": 348,
     "metadata": {},
     "output_type": "execute_result"
    }
   ],
   "source": [
    "pm.model_to_graphviz(hm_test)"
   ]
  },
  {
   "cell_type": "code",
   "execution_count": 349,
   "metadata": {},
   "outputs": [
    {
     "name": "stderr",
     "output_type": "stream",
     "text": [
      "Auto-assigning NUTS sampler...\n",
      "Initializing NUTS using jitter+adapt_diag...\n",
      "Multiprocess sampling (4 chains in 4 jobs)\n",
      "NUTS: [beta, alpha, PE_lo]\n",
      "Sampling 4 chains, 1 divergences: 100%|██████████| 4000/4000 [00:10<00:00, 397.55draws/s] \n",
      "There was 1 divergence after tuning. Increase `target_accept` or reparameterize.\n"
     ]
    }
   ],
   "source": [
    "with hm_test:\n",
    "    trace_dhit = pm.sample()"
   ]
  },
  {
   "cell_type": "markdown",
   "metadata": {},
   "source": [
    "### Unpooled model"
   ]
  },
  {
   "cell_type": "code",
   "execution_count": 172,
   "metadata": {},
   "outputs": [],
   "source": [
    "import theano.tensor as tt\n",
    "with pm.Model() as hm_test_up:\n",
    "    PE_lo = pm.Normal('PE_lo',mu=-0.3, sd=3, shape=nexp)\n",
    "    PE    = pm.Deterministic('PE', cu.invlogit(PE_lo) )\n",
    "\n",
    "    mu_attach = pm.Deterministic(\"mu_attach\",cells_plated*PE[exp_idx])\n",
    "    \n",
    "    \n",
    "    LC50_l = pm.Normal(\"LC50_l\", mu=np.log(0.2),sd=4,shape=nexp)\n",
    "    LC50   = pm.Deterministic('LC50',tt.exp(LC50_l))\n",
    "    #sfrac = pm.Beta('sfrac',1,35,shape=nexp)\n",
    "    sfrac = pm.Deterministic('sfrac',tt.zeros(nexp))\n",
    "    #LC50  = pm.Lognormal('LC50'   ,mu=np.log(2),sd=0.2,shape=nexp)\n",
    "    slope  = pm.Lognormal('slope', mu=np.log(1),sd=0.2,shape=nexp)\n",
    "    \n",
    "    #nu     = pm.Lognormal('nu',    mu=np.log(1),sd=0.2,shape=nexp)\n",
    "    nu_l = pm.Normal('nu_l',np.log(1),sd=0.2,shape=nexp)\n",
    "    nu  = pm.Deterministic('nu',tt.exp(nu_l))\n",
    "     \n",
    "\n",
    "    model = pm.Deterministic('model',mu_attach*sigmoid_curve( concs,sfrac[exp_idx],LC50[exp_idx],slope[exp_idx],nu[exp_idx]) )\n",
    "    #yi = pm.NegativeBinomial('yi',mu=model,alpha=1/nb_al\n",
    "    yi = pm.Poisson('yi',mu=model,observed=counts)"
   ]
  },
  {
   "cell_type": "code",
   "execution_count": 173,
   "metadata": {},
   "outputs": [
    {
     "name": "stderr",
     "output_type": "stream",
     "text": [
      "Auto-assigning NUTS sampler...\n",
      "Initializing NUTS using jitter+adapt_diag...\n",
      "Multiprocess sampling (4 chains in 4 jobs)\n",
      "NUTS: [nu_l, slope, LC50_l, PE_lo]\n",
      "Sampling 4 chains, 0 divergences: 100%|██████████| 4000/4000 [00:16<00:00, 240.73draws/s]\n"
     ]
    }
   ],
   "source": [
    "with hm_test_up:\n",
    "    trace_up = pm.sample(start={'sfrac':0.02})"
   ]
  },
  {
   "cell_type": "code",
   "execution_count": 356,
   "metadata": {},
   "outputs": [
    {
     "data": {
      "text/plain": [
       "Text(0.5, 0, 'Concentration of drug')"
      ]
     },
     "execution_count": 356,
     "metadata": {},
     "output_type": "execute_result"
    },
    {
     "data": {
      "image/png": "[encoded data removed]",
      "text/plain": [
       "<Figure size 432x288 with 2 Axes>"
      ]
     },
     "metadata": {
      "needs_background": "light"
     },
     "output_type": "display_data"
    }
   ],
   "source": [
    "iplt=8\n",
    "fig,axs = plt.subplots(1,2,sharex=True,sharey=True)\n",
    "fig.suptitle( cu.get_exp_label(df,iplt))\n",
    "ax = axs[0]\n",
    "ax.set_title('Double-hit exponential model')\n",
    "cu.posterior_comp(ax,df,trace_dhit,iplt)\n",
    "ax.set_xscale('symlog', linthreshx=1E-3,basex=2)\n",
    "ax.set_xlabel(\"Concentration of drug\")\n",
    "ax.set_ylabel(\"Number of colonies\")\n",
    "\n",
    "formatter = FuncFormatter(pow2formatter)\n",
    "ax.xaxis.set_major_formatter(formatter);\n",
    "locs = [0]+[2**n for n in range(-9,4,4)]\n",
    "ax.set_xticks(locs);\n",
    "\n",
    "ax =axs[1]\n",
    "ax.set_title('Generalised logisitic')\n",
    "cu.posterior_comp_sigmoid(ax,df,trace_up,iplt)\n",
    "ax.set_xlabel(\"Concentration of drug\")\n"
   ]
  },
  {
   "cell_type": "markdown",
   "metadata": {},
   "source": [
    "### Pooled model"
   ]
  },
  {
   "cell_type": "code",
   "execution_count": 383,
   "metadata": {},
   "outputs": [],
   "source": [
    "ncell = len(df['i_cell'].unique())\n",
    "ndrug = len(df['i_drug'].unique())\n",
    "ndrugcell = len(df['i_drugcell'].unique())\n",
    "import theano.tensor as tt\n",
    "with pm.Model() as hm_test:\n",
    "    vdict={}\n",
    "    # plating efficenct\n",
    "    PE_lo_mu = pm.Normal    ('PE_lo_mu',mu=-1, sd=3, shape=ncell)\n",
    "    PE_lo_sd = pm.HalfNormal('PE_lo_sd',sd=0.2,      shape=ncell)\n",
    "    \n",
    "    PE_lo = pm.Deterministic('PE_lo',            PE_lo_mu[cell2ind]+\\\n",
    "        pm.Normal(\"PE_lod\",mu=0,sd=1,shape=nexp)*PE_lo_sd[cell2ind])\n",
    "    PE    = pm.Deterministic('PE', cu.invlogit(PE_lo) )\n",
    "\n",
    "    mu_attach = pm.Deterministic(\"mu_attach\",cells_plated*PE[exp_idx])\n",
    "    \n",
    "    # drugs have common dist\n",
    "    pu.add_2level_hierarchy('LC50_l',vdict, np.log(0.1),5., 0.1, 0.05,  drugcell2ind)\n",
    "    LC50 = pm.Deterministic('LC50', tt.exp(vdict['LC50_l']))\n",
    "    \n",
    "    pu.add_2level_hierarchy('slope_l', vdict, np.log(0.15),0.4, 0.2, 0.1, drugcell2ind)\n",
    "    slope= pm.Deterministic('slope',tt.exp(vdict['slope_l']))\n",
    "        \n",
    "    pu.add_2level_hierarchy('nu_l', vdict, np.log(1),0.2, 0.1, 0.1, drugcell2ind)\n",
    "    nu= pm.Deterministic('nu',tt.exp(vdict['nu_l']))  \n",
    "    \n",
    "    if( False):\n",
    "        sfrac_lo_mu = pm.Normal    ('sfrac_lo_mu',mu=np.log(0.02), sd=1, shape=ndrugcell)\n",
    "        sfrac_lo_sd = pm.HalfNormal('sfrac_lo_sd',sd=0.05,      shape=ndrugcell)\n",
    "    \n",
    "        sfrac_lo = pm.Deterministic('sfrac_lo',      sfrac_lo_mu[drugcell2ind]+\\\n",
    "         pm.Normal(\"sfrac_lod\",mu=0,sd=1,shape=nexp)*sfrac_lo_sd[drugcell2ind])\n",
    "    \n",
    "        \n",
    "        sfrac    = pm.Deterministic('sfrac', invlogit(sfrac_lo) )\n",
    "    sfrac_l = pu.add_2level_hierarchy('sfrac_l',vdict, np.log(0.02),0.2,0.1,0.1,drugcell2ind)\n",
    "    sfrac = pm.Deterministic('sfrac',tt.exp(vdict['sfrac_l']))\n",
    "    #sfrac = pm.Deterministic('sfrac',tt.zeros(nexp))\n",
    "\n",
    "    \n",
    "\n",
    "    #model = pm.Deterministic('model',mu_attach*\n",
    "    #                          cu.sigmoid_curve( concs,sfrac[exp_idx],LC50[exp_idx],slope[exp_idx],nu[exp_idx]) )\n",
    "    model = mu_attach* cu.sigmoid_curve( concs,sfrac[exp_idx],LC50[exp_idx],slope[exp_idx],nu[exp_idx])\n",
    "    #yi = pm.NegativeBinomial('yi',mu=model,alpha=1/nb_al\n",
    "    yi = pm.Poisson('yi',mu=model,observed=counts)"
   ]
  },
  {
   "cell_type": "code",
   "execution_count": 384,
   "metadata": {},
   "outputs": [
    {
     "name": "stderr",
     "output_type": "stream",
     "text": [
      "Auto-assigning NUTS sampler...\n",
      "Initializing NUTS using jitter+adapt_diag...\n",
      "Multiprocess sampling (4 chains in 4 jobs)\n",
      "NUTS: [dsfrac_l_l0c, dsfrac_l_l0ss, dsfrac_l_l1c, dsfrac_l_l1s, sfrac_l_l2, dnu_l_l0c, dnu_l_l0ss, dnu_l_l1c, dnu_l_l1s, nu_l_l2, dslope_l_l0c, dslope_l_l0ss, dslope_l_l1c, dslope_l_l1s, slope_l_l2, dLC50_l_l0c, dLC50_l_l0ss, dLC50_l_l1c, dLC50_l_l1s, LC50_l_l2, PE_lod, PE_lo_sd, PE_lo_mu]\n",
      "Sampling 4 chains, 0 divergences: 100%|██████████| 8000/8000 [02:11<00:00, 61.06draws/s] \n",
      "The number of effective samples is smaller than 10% for some parameters.\n"
     ]
    }
   ],
   "source": [
    "with hm_test:\n",
    "    trace = pm.sample(draws=1500)"
   ]
  },
  {
   "cell_type": "code",
   "execution_count": 408,
   "metadata": {},
   "outputs": [],
   "source": [
    "def get_exp_index( df, drug, cell_line, rep ):\n",
    "    mask = (df['Drug']==drug)&(df['Cell_line']==cell_line)\n",
    "    dft = df[mask].copy()\n",
    "    plates = dft['plate'].unique()\n",
    "    \n",
    "    return dft[dft['plate']==plates[rep]].iloc[0]['i_exp']"
   ]
  },
  {
   "cell_type": "code",
   "execution_count": 409,
   "metadata": {},
   "outputs": [
    {
     "data": {
      "text/plain": [
       "38"
      ]
     },
     "execution_count": 409,
     "metadata": {},
     "output_type": "execute_result"
    }
   ],
   "source": [
    "get_exp_index(df,'Rucaparib','PEO4',1)"
   ]
  },
  {
   "cell_type": "code",
   "execution_count": 417,
   "metadata": {},
   "outputs": [
    {
     "data": {
      "image/png": "[encoded data removed]",
      "text/plain": [
       "<Figure size 864x288 with 2 Axes>"
      ]
     },
     "metadata": {
      "needs_background": "light"
     },
     "output_type": "display_data"
    }
   ],
   "source": [
    "iplt=get_exp_index(df,'Niraparib','PEO1',2)\n",
    "fig,axs = plt.subplots(1,2,sharex=True,figsize=(12,4))\n",
    "fig.suptitle(cu.get_exp_label(df,iplt))\n",
    "ax=axs[0]\n",
    "ax.set_title(\"Unpooled model\")\n",
    "posterior_comp_sig(ax,df,trace_up,iplt)\n",
    "ax.set_ylabel(\"Number of colonies\")\n",
    "ax.set_xlabel(\"Drug concentration\")\n",
    "\n",
    "ax=axs[1]\n",
    "ax.set_title(\"Pooled model\")\n",
    "posterior_comp_sig(ax,df,trace,   iplt)\n",
    "\n",
    "\n",
    "\n",
    "ax.set_xscale('symlog', linthreshx=1E-3,basex=2)\n",
    "formatter = FuncFormatter(pow2formatter)\n",
    "ax.xaxis.set_major_formatter(formatter);\n",
    "locs = [0]+[2**n for n in range(-9,4,4)]\n",
    "ax.set_xticks(locs);\n",
    "\n",
    "\n"
   ]
  },
  {
   "cell_type": "code",
   "execution_count": 386,
   "metadata": {},
   "outputs": [
    {
     "name": "stdout",
     "output_type": "stream",
     "text": [
      "0.4182142170595864\n"
     ]
    },
    {
     "data": {
      "text/plain": [
       "Text(0, 0.5, 'Cells')"
      ]
     },
     "execution_count": 386,
     "metadata": {},
     "output_type": "execute_result"
    },
    {
     "data": {
      "image/png": "[encoded data removed]",
      "text/plain": [
       "<Figure size 432x288 with 1 Axes>"
      ]
     },
     "metadata": {
      "needs_background": "light"
     },
     "output_type": "display_data"
    }
   ],
   "source": [
    "iplt=15\n",
    "\n",
    "fig,ax = plt.subplots(1,1)\n",
    "#posterior_comp_sig(ax,df,trace_up,iplt)\n",
    "dft = df[df['i_exp']==iplt]\n",
    "ax.plot( dft['Treatment'],dft['Count'],'o',color='k')\n",
    "\n",
    "ax.set_xscale('symlog', linthreshx=1E-4,basex=2)\n",
    "formatter = FuncFormatter(pow2formatter)\n",
    "ax.xaxis.set_major_formatter(formatter);\n",
    "locs = [0]+[2**n for n in range(-14,4,2)]\n",
    "ax.set_xticks(locs);\n",
    "\n",
    "\n",
    "PE = np.median(trace.get_values('PE')[:,iplt])\n",
    "LC50= np.median(trace.get_values('LC50')[:,iplt])\n",
    "slope= np.median(trace.get_values('slope')[:,iplt])\n",
    "nu = np.median(trace.get_values('nu')[:,iplt])\n",
    "cp=dft['Cells Plated'].median()\n",
    "print(nu)\n",
    "xp =np.array([0.]+[2**n for n in np.linspace(-18,4,81)])\n",
    "\n",
    "choice='nu'\n",
    "if( choice=='LC50'):\n",
    "    plt.plot(xp,cp*PE*sigmoid_curve(xp,0.,2**-2, slope,nu),color='red' ,ls='--',label=r'LC50$=2^{-8}$')\n",
    "    plt.plot(xp,cp*PE*sigmoid_curve(xp,0.,LC50, slope,nu),color='green' ,label='best fit')\n",
    "    plt.plot(xp,cp*PE*sigmoid_curve(xp,0.,2**-4, slope,nu),color='blue' ,ls='--',label=r'LC50$=2^{-10}$')\n",
    "if( choice=='slope'):\n",
    "    plt.plot(xp,cp*PE*sigmoid_curve(xp,0.,LC50, 2,nu),color='red' ,ls='--',label='slope=2')\n",
    "    plt.plot(xp,cp*PE*sigmoid_curve(xp,0.,LC50, slope,nu),color='green' ,label='best fit')\n",
    "    plt.plot(xp,cp*PE*sigmoid_curve(xp,0.,LC50, 1,nu),color='blue' ,ls='--',label='slope=1')\n",
    "if( choice=='nu'):\n",
    "    plt.plot(xp,cp*PE*sigmoid_curve(xp,0.,LC50, slope,2),color='red' ,ls='--',label='nu=2')    \n",
    "    plt.plot(xp,cp*PE*sigmoid_curve(xp,0.,LC50, slope,1),color='green' ,ls='--',label='nu=0.5')\n",
    "    plt.plot(xp,cp*PE*sigmoid_curve(xp,0.,LC50, slope,0.5),color='blue' ,ls='--',label='nu=0.5')\n",
    "    plt.plot(xp,cp*PE*sigmoid_curve(xp,0.,LC50, slope,nu),color='k' ,label='best fit')\n",
    "    \n",
    "drug = dft['Drug'].values[0]\n",
    "cell_line = dft['Cell_line'].values[0]\n",
    "ax.set_title(\"{} {}\".format(cell_line,drug))\n",
    "ax.legend()\n",
    "ax.set_xlabel(\"Dose\")\n",
    "ax.set_ylabel(\"Cells\")"
   ]
  },
  {
   "cell_type": "code",
   "execution_count": 387,
   "metadata": {},
   "outputs": [],
   "source": [
    "# get the order of the drugs LC50, we will order the plots by these \n",
    "drug2drugcell\n",
    "lc50s = np.median(trace.get_values('dLC50_l_l1'),axis=0)\n",
    "lc50_d = np.zeros(len(np.unique(drug2drugcell)) )\n",
    "for i in np.unique(drug2drugcell):\n",
    "    lc50_d[i]=np.average( lc50s[drug2drugcell==i] )\n",
    "isort = np.argsort(lc50_d)\n",
    "drugsort=drugnames[isort]"
   ]
  },
  {
   "cell_type": "code",
   "execution_count": 418,
   "metadata": {},
   "outputs": [
    {
     "data": {
      "image/png": "[encoded data removed]",
      "text/plain": [
       "<Figure size 1008x432 with 2 Axes>"
      ]
     },
     "metadata": {
      "needs_background": "light"
     },
     "output_type": "display_data"
    }
   ],
   "source": [
    "fig,axs = plt.subplots(1,2,figsize=(14,6),sharex=True)\n",
    "ax = axs[0]\n",
    "ax.set_title('Unpooled model')\n",
    "cu.var_comp(ax,df,trace_up,'LC50',drugs=drugsort,legend='upper right',label_plate=False)\n",
    "ax = axs[1]\n",
    "ax.set_title('Pooled model')\n",
    "cu.var_comp(ax,df,trace   ,'LC50',drugs=drugsort,label=False)\n",
    "axs[0].set_xscale('log')\n",
    "set_pow2format(axs[0],[2**n for n in range(-12,3,2)])\n"
   ]
  },
  {
   "cell_type": "code",
   "execution_count": 424,
   "metadata": {},
   "outputs": [
    {
     "data": {
      "image/png": "[encoded data removed]",
      "text/plain": [
       "<Figure size 1152x432 with 5 Axes>"
      ]
     },
     "metadata": {
      "needs_background": "light"
     },
     "output_type": "display_data"
    }
   ],
   "source": [
    "fig,axs = plt.subplots(1,5,figsize=(16,6))\n",
    "\n",
    "axs[0].set_xlabel('LC50')\n",
    "cu.var_comp(axs[0],df,trace,'LC50',drugs=drugsort,legend='upper right')\n",
    "axs[0].set_xscale('log')\n",
    "set_pow2format(axs[0],[2**n for n in range(-12,3,2)])\n",
    "\n",
    "axs[1].set_xlabel('slope')\n",
    "cu.var_comp(axs[1],df,trace   ,'slope',drugs=drugsort,label=False)\n",
    "axs[1].set_xscale('log')\n",
    "set_pow2format(axs[1],[0.25,0.5,1,2,4])\n",
    "\n",
    "axs[2].set_xlabel('nu')\n",
    "cu.var_comp(axs[2],df,trace   ,'nu',drugs=drugsort,label=False)\n",
    "axs[2].set_xscale('log')\n",
    "set_pow2format(axs[2],[1/16.,1/8.,1/4.,1,2])\n",
    "\n",
    "axs[3].set_xlabel('Surviving fraction')\n",
    "cu.var_comp(axs[3],df,trace,'sfrac',drugs=drugsort,label=False)\n",
    "\n",
    "axs[4].set_xlabel('PE')\n",
    "axs[4].set_xlim(0,0.5)\n",
    "cu.var_comp(axs[4],df,trace,'PE', drugs=drugsort,label=False)\n",
    "\n"
   ]
  },
  {
   "cell_type": "code",
   "execution_count": 273,
   "metadata": {},
   "outputs": [
    {
     "data": {
      "image/png": "[encoded data removed]",
      "text/plain": [
       "<Figure size 864x432 with 3 Axes>"
      ]
     },
     "metadata": {
      "needs_background": "light"
     },
     "output_type": "display_data"
    }
   ],
   "source": [
    "fig,axs = plt.subplots(1,3,figsize=(12,6))\n",
    "\n",
    "ax=axs[0]\n",
    "ax.set_xlabel(\"LC50\")\n",
    "cu.var_comp_level1(ax,df,trace,'LC50_l',transform=np.exp, drugs=drugsort, legend='upper right')\n",
    "ax.set_xscale('log')\n",
    "set_pow2format(ax,[2**n for n in range(-12,3,2)])\n",
    "\n",
    "ax=axs[1]\n",
    "ax.set_xlabel(\"slope\")\n",
    "cu.var_comp_level1(ax,df,trace,'slope_l',transform=np.exp,drugs=drugsort, label=False)\n",
    "ax.set_xscale('log')\n",
    "set_pow2format(ax,[2**n for n in range(-1,2,1)])\n",
    "\n",
    "ax=axs[2]\n",
    "ax.set_xlabel(\"nu\")\n",
    "cu.var_comp_level1(ax,df,trace,'nu_l',transform=np.exp,drugs=drugsort, label=False)\n",
    "ax.set_xscale('log')\n",
    "set_pow2format(ax,[2**n for n in range(-1,2,1)])\n",
    "\n"
   ]
  },
  {
   "cell_type": "code",
   "execution_count": null,
   "metadata": {},
   "outputs": [],
   "source": [
    "\n",
    "with pm.Model() as hm_test:\n",
    "\n",
    "    # priors of level 1 distribution\n",
    "    mu_lo_hp_l = pm.Normal    ('mu_lo_hp_l',    mu=-1.5,sd=2)\n",
    "    mu_lo_hp_s = pm.HalfNormal('mu_lo_hp_s',    2)\n",
    "    mu_lo_1 =  pm.Deterministic('mu_lo_1',  mu_lo_hp_l+mu_lo_hp_s*pm.Normal('mu_lo_1_t', mu=0, sd=1,shape=nexp ))\n",
    "    \n",
    "    \n",
    "    # experiment level 1 (centered dist)\n",
    "    sd_lo_hp_l = pm.Normal    ('sd_lo_hp_l',   mu=0,sd=1 )\n",
    "    sd_lo_hp_s = pm.Exponential('sd_lo_hp_s',   0.2) \n",
    "    sd_lo_1 =  pm.Deterministic('sd_lo_1',pm.math.exp(sd_lo_hp_l+sd_lo_hp_s*pm.Normal('sd_lo_1_t', mu=0 ,sd=1,shape=nexp )))\n",
    "    \n",
    "    PE_lo = pm.Normal('PE_lo',mu=mu_lo_1[exp_idx], sd=sd_lo_1[exp_idx], shape=len(exp_idx))\n",
    "    #PE_lo = pm.Deterministic('PE_lo',mu_lo_1[exp_idx])\n",
    "    PE    = pm.Deterministic('PE', invlogit(PE_lo) )\n",
    "\n",
    "    mu_attach = pm.Deterministic(\"mu_attach\",cells_plated*PE)\n",
    "    \n",
    "    \n",
    "    # model coefficents\n",
    "    alpha = pm.Lognormal('alpha',mu=np.log(0.15),sd=0.3,shape=nexp)\n",
    "    beta  = pm.Lognormal('beta', mu=np.log(0.01),sd=0.3,shape=nexp)\n",
    "    \n",
    "\n",
    "    model = pm.Deterministic('model',LQ_model( concs, mu_attach, alpha[exp_idx],beta[exp_idx]) )\n",
    "    #yi = pm.NegativeBinomial('yi',mu=model,alpha=1/nb_alpha**2,observed=counts)\n",
    "    yi = pm.Poisson('yi',mu=model,observed=counts)"
   ]
  },
  {
   "cell_type": "code",
   "execution_count": null,
   "metadata": {},
   "outputs": [],
   "source": [
    "with hm_test:\n",
    "    trace = pm.sample(start={'mu_lo_hp_l':-1.5})"
   ]
  },
  {
   "cell_type": "code",
   "execution_count": null,
   "metadata": {},
   "outputs": [],
   "source": [
    "df_fit = pd.DataFrame(columns=\"Experiment Title,PE,PE_lo,PE_sd_lo,alpha,alpha_err,beta,beta_err,ind\".split(','))\n",
    "#df_fit.columns\n",
    "df_fit.set_index(\"Experiment Title\",inplace=True)\n",
    "\n",
    "\n",
    "for il in np.unique(exp_idx):\n",
    "\n",
    "    mask = exp_idx==il\n",
    "    label = labels[exp_idx==il][0]\n",
    "    for var in 'PE PE_lo '.split():\n",
    "        vals = trace.get_values(var)[:,mask]\n",
    "        df_fit.loc[label,var] =np.median(vals)\n",
    "    for var in 'alpha beta sd_lo_1'.split():\n",
    "        vals = trace.get_values(var)[:,il]\n",
    "        df_fit.loc[label,var] =np.median(vals)        \n",
    "    df_fit.loc[label,'ind']=il"
   ]
  },
  {
   "cell_type": "code",
   "execution_count": null,
   "metadata": {},
   "outputs": [],
   "source": [
    "df"
   ]
  },
  {
   "cell_type": "code",
   "execution_count": null,
   "metadata": {},
   "outputs": [],
   "source": [
    "iexp=4\n",
    "dft=df[exp_idx==iexp]\n",
    "plt.plot( dft['Treatment'],dft['Count']/dft['Cells Plated'],'o')"
   ]
  },
  {
   "cell_type": "markdown",
   "metadata": {},
   "source": [
    "### New heading"
   ]
  },
  {
   "cell_type": "code",
   "execution_count": 25,
   "metadata": {},
   "outputs": [],
   "source": [
    "# - - - - - - - - - - - - - - - - - - - - - - - - - - - - - - - - - - - - - - - -\n",
    "def perc_plot( ax, time, samp, **kwargs ):\n",
    "# - - - - - - - - - - - - - - - - - - - - - - - - - - - - - - - - - - - - - - - -\n",
    "    percs = np.percentile( samp, [2.5,25,50,75,97.5], axis=0)\n",
    "    ax.fill_between( time, percs[0],percs[4], alpha=0.2, **kwargs )\n",
    "    ax.fill_between( time, percs[1],percs[3], alpha=0.5, **kwargs )\n",
    "    ax.plot( time, percs[2], lw=1.5, **kwargs )\n",
    "    return"
   ]
  },
  {
   "cell_type": "code",
   "execution_count": 23,
   "metadata": {},
   "outputs": [],
   "source": [
    "def pull_post(  trace,varnames, il=1, nsamp=100):\n",
    "    post = np.zeros([nsamp,len(varnames)])\n",
    "    for i,var in enumerate(varnames):\n",
    "        vals = trace.get_values(var)\n",
    "        if( i==0 ):\n",
    "            # first time through make the sampling array\n",
    "            isamp =np.random.randint(vals.shape[0],size=nsamp)\n",
    " \n",
    "        if( len((vals.shape))==1 ):\n",
    "            post[:,i]=vals[isamp]\n",
    "        if( len((vals.shape))==2 ):\n",
    "            post[:,i]=vals[isamp,il]\n",
    "    return post"
   ]
  },
  {
   "cell_type": "code",
   "execution_count": null,
   "metadata": {},
   "outputs": [],
   "source": [
    "df.head()"
   ]
  },
  {
   "cell_type": "code",
   "execution_count": null,
   "metadata": {},
   "outputs": [],
   "source": [
    "il=3\n",
    "post = pull_post(trace,'PE alpha beta'.split(),il=il)\n",
    "mask=df['exp_ind']==il\n",
    "dft = df[mask]\n",
    "x0 = dft['Treatment']\n",
    "y0 = dft['SF']\n",
    "c = np.array([0.]+np.exp(np.linspace(-5,np.log(60),41)))\n",
    "plt.plot(x0,y0,'o')\n",
    "\n",
    "    \n",
    "cc = df['Treatment']\n",
    "cp = df['Cells Plated']\n",
    "for i in range(10):\n",
    "    plt.plot(cc,LQ_model(cc,*post[i]),'o',color='grey')"
   ]
  },
  {
   "cell_type": "code",
   "execution_count": null,
   "metadata": {},
   "outputs": [],
   "source": [
    "fig,axs = plt.subplots(2,3,sharey=True,figsize=(12,10))\n",
    "for i,ii in enumerate([0,4,5]):\n",
    "    ax=axs[0,i]\n",
    "    plot_post( ax, df,exp_idx, trace, ii)\n",
    "for i,ii in enumerate([1,2,3]):\n",
    "    ax=axs[1,i]\n",
    "    plot_post( ax, df,exp_idx, trace, ii)"
   ]
  },
  {
   "cell_type": "raw",
   "metadata": {},
   "source": [
    "trace"
   ]
  },
  {
   "cell_type": "code",
   "execution_count": null,
   "metadata": {},
   "outputs": [],
   "source": [
    "il=0\n",
    "def plot_plating(ax,df,exp_idx, trace,il):\n",
    "    mask = exp_idx==il\n",
    "    label=df['Experiment Title'][mask].unique()[0]\n",
    "    \n",
    "    post1 = []\n",
    "    post2 = []\n",
    "    for i in range(50):\n",
    "        isamp = np.random.randint(0,50)\n",
    "        cc    = df['Treatment'].values[exp_idx==il]\n",
    "        isort = np.argsort(cc)\n",
    "        cc = cc[isort]\n",
    "        cp    = df['Cells Plated'].values[exp_idx==il][isort]\n",
    "\n",
    "        PE    = trace.get_values('PE')[isamp,exp_idx==il][isort]\n",
    "        PE_m = logit(trace.get_values('mu_lo_1')[isamp,il])\n",
    "        post1.append(PE)\n",
    "        post2.appe96ones_like(cc))\n",
    "    perc_plot(ax,cc,post1,color='red')\n",
    "    perc_plot(ax,cc,post2,color='blue')\n",
    "    ax.grid()\n",
    "    ax.set_title(label)\n",
    "\n",
    "fig,axs = plt.subplots(2,3,sharey=True,figsize=(12,10))\n",
    "for i,ii in enumerate([0,4,5]):\n",
    "    ax=axs[0,i]\n",
    "    plot_plating( ax, df,exp_idx, trace, ii)\n",
    "for i,ii in enumerate([1,2,3]):\n",
    "    ax=axs[1,i]\n",
    "    plot_plating( ax, df,exp_idx, trace, ii)\n",
    "ax.set_ylim(0,0.45)"
   ]
  },
  {
   "cell_type": "code",
   "execution_count": null,
   "metadata": {},
   "outputs": [],
   "source": [
    "for i in range()"
   ]
  },
  {
   "cell_type": "code",
   "execution_count": null,
   "metadata": {},
   "outputs": [],
   "source": [
    "i1,i2=0,4\n",
    "fig,axs = plt.subplots(6,6,sharex=True,sharey=True,figsize=(12,12))\n",
    "for i in range(6):\n",
    "    for j in range(6):\n",
    "        ax = axs[i,j]\n",
    "        \n",
    "        ax.set_aspect('equal')\n",
    "        ax.set_xlim(0,0.4)\n",
    "        ax.set_ylim(0,0.4)\n",
    "        \n",
    "        if(i==j): continue\n",
    "        ax.plot([0,0.5],[0.,0.5],'--',color='red')\n",
    "        ax.plot( np.median(trace.get_values('PE'),axis=0)[exp_idx==i],np.median(trace.get_values('PE'),axis=0)[exp_idx==j],'o')\n",
    "        \n",
    "        "
   ]
  },
  {
   "cell_type": "code",
   "execution_count": null,
   "metadata": {},
   "outputs": [],
   "source": [
    "plt.plot( concs,counts,'o')\n",
    "\n",
    "x=np.linspace(0,60,101)\n",
    "Xp = np.stack([cells_plated[0]*np.ones_like(x),x],axis=1)\n",
    "plt.plot( model2([0.23,0.025,0],Xp))"
   ]
  },
  {
   "cell_type": "code",
   "execution_count": null,
   "metadata": {},
   "outputs": [],
   "source": [
    "hm_test.mode"
   ]
  },
  {
   "cell_type": "code",
   "execution_count": null,
   "metadata": {},
   "outputs": [],
   "source": []
  },
  {
   "cell_type": "code",
   "execution_count": 160,
   "metadata": {},
   "outputs": [
    {
     "ename": "NameError",
     "evalue": "name 'np' is not defined",
     "output_type": "error",
     "traceback": [
      "\u001b[0;31m---------------------------------------------------------------------------\u001b[0m",
      "\u001b[0;31mNameError\u001b[0m                                 Traceback (most recent call last)",
      "\u001b[0;32m<ipython-input-160-f47408e38da3>\u001b[0m in \u001b[0;36m<module>\u001b[0;34m\u001b[0m\n\u001b[1;32m     12\u001b[0m \u001b[0;34m\u001b[0m\u001b[0m\n\u001b[1;32m     13\u001b[0m \u001b[0;34m\u001b[0m\u001b[0m\n\u001b[0;32m---> 14\u001b[0;31m     \u001b[0mPE\u001b[0m    \u001b[0;34m=\u001b[0m \u001b[0mpm\u001b[0m\u001b[0;34m.\u001b[0m\u001b[0mDeterministic\u001b[0m\u001b[0;34m(\u001b[0m\u001b[0;34m'PE'\u001b[0m\u001b[0;34m,\u001b[0m \u001b[0mcu\u001b[0m\u001b[0;34m.\u001b[0m\u001b[0minvlogit\u001b[0m\u001b[0;34m(\u001b[0m\u001b[0mPE_lo\u001b[0m\u001b[0;34m)\u001b[0m \u001b[0;34m)\u001b[0m\u001b[0;34m\u001b[0m\u001b[0;34m\u001b[0m\u001b[0m\n\u001b[0m\u001b[1;32m     15\u001b[0m \u001b[0;34m\u001b[0m\u001b[0m\n\u001b[1;32m     16\u001b[0m     \u001b[0mmu_attach\u001b[0m \u001b[0;34m=\u001b[0m \u001b[0mpm\u001b[0m\u001b[0;34m.\u001b[0m\u001b[0mDeterministic\u001b[0m\u001b[0;34m(\u001b[0m\u001b[0;34m\"mu_attach\"\u001b[0m\u001b[0;34m,\u001b[0m\u001b[0mcells_plated\u001b[0m\u001b[0;34m*\u001b[0m\u001b[0mPE\u001b[0m\u001b[0;34m[\u001b[0m\u001b[0mexp_idx\u001b[0m\u001b[0;34m]\u001b[0m\u001b[0;34m)\u001b[0m\u001b[0;34m\u001b[0m\u001b[0;34m\u001b[0m\u001b[0m\n",
      "\u001b[0;32m~/Dropbox/MIF/Workflows/clonogenic/cologenic_utils.py\u001b[0m in \u001b[0;36minvlogit\u001b[0;34m(a)\u001b[0m\n\u001b[1;32m      5\u001b[0m         \u001b[0;32mreturn\u001b[0m \u001b[0mnp\u001b[0m\u001b[0;34m.\u001b[0m\u001b[0mlog\u001b[0m\u001b[0;34m(\u001b[0m\u001b[0mp\u001b[0m\u001b[0;34m/\u001b[0m\u001b[0;34m(\u001b[0m\u001b[0;36m1\u001b[0m\u001b[0;34m-\u001b[0m\u001b[0mp\u001b[0m\u001b[0;34m)\u001b[0m\u001b[0;34m)\u001b[0m\u001b[0;34m\u001b[0m\u001b[0;34m\u001b[0m\u001b[0m\n\u001b[1;32m      6\u001b[0m \u001b[0;32mdef\u001b[0m \u001b[0minvlogit\u001b[0m\u001b[0;34m(\u001b[0m\u001b[0ma\u001b[0m\u001b[0;34m)\u001b[0m\u001b[0;34m:\u001b[0m\u001b[0;34m\u001b[0m\u001b[0;34m\u001b[0m\u001b[0m\n\u001b[0;32m----> 7\u001b[0;31m         \u001b[0;32mreturn\u001b[0m \u001b[0;36m1.\u001b[0m\u001b[0;34m/\u001b[0m\u001b[0;34m(\u001b[0m\u001b[0;36m1.\u001b[0m\u001b[0;34m+\u001b[0m\u001b[0mnp\u001b[0m\u001b[0;34m.\u001b[0m\u001b[0mexp\u001b[0m\u001b[0;34m(\u001b[0m\u001b[0;34m-\u001b[0m\u001b[0ma\u001b[0m\u001b[0;34m)\u001b[0m\u001b[0;34m)\u001b[0m\u001b[0;34m\u001b[0m\u001b[0;34m\u001b[0m\u001b[0m\n\u001b[0m\u001b[1;32m      8\u001b[0m \u001b[0;34m\u001b[0m\u001b[0m\n\u001b[1;32m      9\u001b[0m \u001b[0;32mdef\u001b[0m \u001b[0mLQ_model\u001b[0m\u001b[0;34m(\u001b[0m \u001b[0mconc\u001b[0m\u001b[0;34m,\u001b[0m \u001b[0mcells_plated\u001b[0m\u001b[0;34m,\u001b[0m \u001b[0malpha\u001b[0m\u001b[0;34m,\u001b[0m \u001b[0mbeta\u001b[0m \u001b[0;34m)\u001b[0m\u001b[0;34m:\u001b[0m\u001b[0;34m\u001b[0m\u001b[0;34m\u001b[0m\u001b[0m\n",
      "\u001b[0;31mNameError\u001b[0m: name 'np' is not defined"
     ]
    }
   ],
   "source": [
    "ncell = len(df['i_cell'].unique())\n",
    "ndrug = len(df['i_drug'].unique())\n",
    "ndrugcell = len(df['i_drugcell'].unique())\n",
    "import theano.tensor as tt\n",
    "with pm.Model() as hm_test:\n",
    "    \n",
    "    PE_lo_mu = pm.Normal    ('PE_lo_mu',mu=-1, sd=3, shape=ncell)\n",
    "    PE_lo_sd = pm.HalfNormal('PE_lo_sd',sd=0.2,      shape=ncell)\n",
    "    \n",
    "    PE_lo = pm.Deterministic('PE_lo',            PE_lo_mu[cell2ind]+\\\n",
    "        pm.Normal(\"PE_lod\",mu=0,sd=1,shape=nexp)*PE_lo_sd[cell2ind])\n",
    "    \n",
    "    \n",
    "    PE    = pm.Deterministic('PE', cu.invlogit(PE_lo) )\n",
    "\n",
    "    mu_attach = pm.Deterministic(\"mu_attach\",cells_plated*PE[exp_idx])\n",
    "    \n",
    "    \n",
    "\n",
    "    # drugs have common dist\n",
    "    if( False ):\n",
    "        LC50_l_mu = pm.Normal    (\"LC50_l_mu\", mu=np.log(0.2),sd=4,shape=ndrug)\n",
    "        LC50_l_sd = pm.HalfNormal(\"LC50_l_sd\", 0.1, shape=ndrug)\n",
    "\n",
    "        LC50_l = pm.Deterministic('LC50_l',           LC50_l_mu[drug2ind]+\\\n",
    "            pm.Normal(\"LC50_ld\",mu=0,sd=1,shape=nexp)*LC50_l_sd[drug2ind])\n",
    "    if( True):\n",
    "        # drug x cell have common dist\n",
    "        LC50_l_mu = pm.Normal    (\"LC50_l_mu\", mu=np.log(0.2),sd=4,shape=ndrugcell)\n",
    "        LC50_l_sd = pm.HalfNormal(\"LC50_l_sd\", 0.15,                shape=ndrugcell)      \n",
    "        \n",
    "        LC50_l = pm.Deterministic('LC50_l',           LC50_l_mu[drugcell2ind]+\\\n",
    "            pm.Normal(\"LC50_ld\",mu=0,sd=1,shape=nexp)*LC50_l_sd[drugcell2ind])\n",
    "    LC50   = pm.Deterministic('LC50',tt.exp(LC50_l))\n",
    "    \n",
    "    if( True ):\n",
    "        # drug x cell have common dist\n",
    "        \n",
    "        slope_l_sd2 = pm.Lognormal('slope_l_sd2',mu=np.log(0.15),sd=0.2)\n",
    "        #slope_l_sd2 = pm.Exponential('slope_l_sd2',0.1)\n",
    "        \n",
    "        slope_l_mu_sd = pm.HalfNormal('slope_l_mu_sd',0.4) \n",
    "        slope_l_mu_mu = pm.Normal    ('slope_l_mu_mu',mu=0,sd=0.75) \n",
    "        \n",
    "        slope_l_mu = pm.Normal    (\"slope_l_mu\", mu=slope_l_mu_mu,sd=slope_l_mu_sd,shape=ndrugcell)\n",
    "        slope_l_sd = pm.HalfNormal(\"slope_l_sd\", slope_l_sd2,        shape=ndrugcell)      \n",
    "        \n",
    "        slope_l = pm.Deterministic('slope_l',          slope_l_mu[drugcell2ind]+\\\n",
    "            pm.Normal(\"slope_ld\",mu=0,sd=1,shape=nexp)*slope_l_sd[drugcell2ind])\n",
    "        slope= pm.Deterministic('slope',tt.exp(slope_l))\n",
    "    else:\n",
    "        \n",
    "        slope  = pm.Lognormal('slope', mu=np.log(1),sd=0.1,shape=nexp)\n",
    "        \n",
    "    if( True):\n",
    "        #nu_l_sd_2 = pm.Lognormal('nu_l_sd_2',np.log(0.2),sd=0.1)\n",
    "        \n",
    "        nu_l_mu = pm.Normal    (\"nu_l_mu\", mu=np.log(1),sd=0.1,shape=ndrugcell)\n",
    "        nu_l_sd = pm.HalfNormal(\"nu_l_sd\", 0.075,               shape=ndrugcell)      \n",
    "        \n",
    "        nu_l = pm.Deterministic('nu_l',             nu_l_mu[drugcell2ind]+\\\n",
    "            pm.Normal(\"nu_ld\",mu=0,sd=1,shape=nexp)*nu_l_sd[drugcell2ind])\n",
    "        nu= pm.Deterministic('nu',tt.exp(nu_l))       \n",
    "    else:\n",
    "        nu     = pm.Lognormal('nu',    mu=np.log(1),sd=0.02,shape=nexp)    \n",
    "        \n",
    "    if( False):\n",
    "        sfrac_lo_mu = pm.Normal    ('sfrac_lo_mu',mu=np.log(0.02), sd=1, shape=ndrugcell)\n",
    "        sfrac_lo_sd = pm.HalfNormal('sfrac_lo_sd',sd=0.05,      shape=ndrugcell)\n",
    "    \n",
    "        sfrac_lo = pm.Deterministic('sfrac_lo',      sfrac_lo_mu[drugcell2ind]+\\\n",
    "         pm.Normal(\"sfrac_lod\",mu=0,sd=1,shape=nexp)*sfrac_lo_sd[drugcell2ind])\n",
    "    \n",
    "        \n",
    "        sfrac    = pm.Deterministic('sfrac', invlogit(sfrac_lo) )\n",
    "    if(False):\n",
    "        sfrac = pm.Beta('sfrac',1,35,shape=nexp)\n",
    "    sfrac = pm.Deterministic('sfrac',tt.zeros(nexp))\n",
    "\n",
    "    \n",
    "\n",
    "    model = pm.Deterministic('model',mu_attach*cu.sigmoid_curve( concs,sfrac[exp_idx],LC50[exp_idx],slope[exp_idx],nu[exp_idx]) )\n",
    "    #yi = pm.NegativeBinomial('yi',mu=model,alpha=1/nb_al\n",
    "    yi = pm.Poisson('yi',mu=model,observed=counts)"
   ]
  }
 ],
 "metadata": {
  "anaconda-cloud": {},
  "kernelspec": {
   "display_name": "Python 3",
   "language": "python",
   "name": "python3"
  },
  "language_info": {
   "codemirror_mode": {
    "name": "ipython",
    "version": 3
   },
   "file_extension": ".py",
   "mimetype": "text/x-python",
   "name": "python",
   "nbconvert_exporter": "python",
   "pygments_lexer": "ipython3",
   "version": "3.7.3"
  }
 },
 "nbformat": 4,
 "nbformat_minor": 2
}
