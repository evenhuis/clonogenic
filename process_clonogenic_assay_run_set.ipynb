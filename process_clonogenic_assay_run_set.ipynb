{
 "cells": [
  {
   "cell_type": "code",
   "execution_count": 13,
   "metadata": {},
   "outputs": [
    {
     "data": {
      "text/plain": [
       "<module 'file_chooser' from '/Users/evenhuis/Dropbox/MIF/Workflows/clonogenic/file_chooser.py'>"
      ]
     },
     "execution_count": 13,
     "metadata": {},
     "output_type": "execute_result"
    }
   ],
   "source": [
    "%matplotlib inline\n",
    "import matplotlib.pyplot as plt\n",
    "import numpy as np\n",
    "import os\n",
    "\n",
    "import process_plate as pp\n",
    "from file_chooser import FileChooser\n",
    "import file_chooser\n",
    "from IPython.display import display\n",
    "import importlib\n",
    "importlib.reload(pp)\n",
    "importlib.reload(file_chooser)"
   ]
  },
  {
   "cell_type": "markdown",
   "metadata": {},
   "source": [
    "Choose the directory to process. This contains a set of runs.  Each sub-directory must contain  \n",
    "* DataTable_DATE.xls\n",
    "* Exp_context_DATE.xls\n",
    "\n",
    "If a directory can analysed it will be label <font color='green'>green</font>, <font color='red'>red</font> otherwise."
   ]
  },
  {
   "cell_type": "code",
   "execution_count": 14,
   "metadata": {},
   "outputs": [
    {
     "data": {
      "application/vnd.jupyter.widget-view+json": {
       "model_id": "ac454079a84a407195efe2e889b561e0",
       "version_major": 2,
       "version_minor": 0
      },
      "text/plain": [
       "FileChooser(children=(GridBox(children=(Button(description='Up Directory', style=ButtonStyle()), Select(layout…"
      ]
     },
     "metadata": {},
     "output_type": "display_data"
    }
   ],
   "source": [
    "fc = FileChooser()\n",
    "display(fc)"
   ]
  },
  {
   "cell_type": "markdown",
   "metadata": {},
   "source": [
    "Read in the data"
   ]
  },
  {
   "cell_type": "code",
   "execution_count": 15,
   "metadata": {},
   "outputs": [
    {
     "data": {
      "text/html": [
       "<div>\n",
       "<style scoped>\n",
       "    .dataframe tbody tr th:only-of-type {\n",
       "        vertical-align: middle;\n",
       "    }\n",
       "\n",
       "    .dataframe tbody tr th {\n",
       "        vertical-align: top;\n",
       "    }\n",
       "\n",
       "    .dataframe thead th {\n",
       "        text-align: right;\n",
       "    }\n",
       "</style>\n",
       "<table border=\"1\" class=\"dataframe\">\n",
       "  <thead>\n",
       "    <tr style=\"text-align: right;\">\n",
       "      <th></th>\n",
       "      <th>Plate</th>\n",
       "      <th>Experiment Title</th>\n",
       "      <th>Treatment</th>\n",
       "      <th>Well</th>\n",
       "      <th>Label</th>\n",
       "      <th>Cells Plated</th>\n",
       "      <th>Mask Area (mm^2)</th>\n",
       "      <th>Mask Area Total Density (OD)</th>\n",
       "      <th>Count</th>\n",
       "      <th>Diameter Average (um)</th>\n",
       "      <th>...</th>\n",
       "      <th>Nearest Neighbour Average (um)</th>\n",
       "      <th>Nearest Neighbour StdDev</th>\n",
       "      <th>Read-date</th>\n",
       "      <th>Read-time</th>\n",
       "      <th>Plate Type</th>\n",
       "      <th>Resolution Setting</th>\n",
       "      <th>CHARM Settings File</th>\n",
       "      <th>Mask Settings File</th>\n",
       "      <th>Image File</th>\n",
       "      <th>Drug</th>\n",
       "    </tr>\n",
       "  </thead>\n",
       "  <tbody>\n",
       "    <tr>\n",
       "      <th>0</th>\n",
       "      <td>1</td>\n",
       "      <td>UWB1 AS</td>\n",
       "      <td>3.75</td>\n",
       "      <td>1</td>\n",
       "      <td>A01</td>\n",
       "      <td>1500</td>\n",
       "      <td>896.31486</td>\n",
       "      <td>41735.860957</td>\n",
       "      <td>122</td>\n",
       "      <td>285.641022</td>\n",
       "      <td>...</td>\n",
       "      <td>945.153870</td>\n",
       "      <td>1024.892700</td>\n",
       "      <td>24-04-2019</td>\n",
       "      <td>12:15:55</td>\n",
       "      <td>6-Well</td>\n",
       "      <td>600</td>\n",
       "      <td>UWB1.charm</td>\n",
       "      <td>4x6costarplate.mask</td>\n",
       "      <td>C:\\Users\\Public\\Documents\\GelCount\\Data\\Data_2...</td>\n",
       "      <td>ABT888</td>\n",
       "    </tr>\n",
       "    <tr>\n",
       "      <th>1</th>\n",
       "      <td>1</td>\n",
       "      <td>UWB1 RNF20si#1</td>\n",
       "      <td>3.75</td>\n",
       "      <td>2</td>\n",
       "      <td>A02</td>\n",
       "      <td>1500</td>\n",
       "      <td>896.31486</td>\n",
       "      <td>38163.987130</td>\n",
       "      <td>29</td>\n",
       "      <td>279.398102</td>\n",
       "      <td>...</td>\n",
       "      <td>988.933472</td>\n",
       "      <td>739.075073</td>\n",
       "      <td>24-04-2019</td>\n",
       "      <td>12:15:55</td>\n",
       "      <td>6-Well</td>\n",
       "      <td>600</td>\n",
       "      <td>UWB1.charm</td>\n",
       "      <td>4x6costarplate.mask</td>\n",
       "      <td>C:\\Users\\Public\\Documents\\GelCount\\Data\\Data_2...</td>\n",
       "      <td>ABT888</td>\n",
       "    </tr>\n",
       "    <tr>\n",
       "      <th>2</th>\n",
       "      <td>1</td>\n",
       "      <td>UWB1 RNF20si#3</td>\n",
       "      <td>3.75</td>\n",
       "      <td>3</td>\n",
       "      <td>A03</td>\n",
       "      <td>1500</td>\n",
       "      <td>896.31486</td>\n",
       "      <td>38314.242127</td>\n",
       "      <td>44</td>\n",
       "      <td>268.752289</td>\n",
       "      <td>...</td>\n",
       "      <td>1172.009277</td>\n",
       "      <td>1163.347046</td>\n",
       "      <td>24-04-2019</td>\n",
       "      <td>12:15:55</td>\n",
       "      <td>6-Well</td>\n",
       "      <td>600</td>\n",
       "      <td>UWB1.charm</td>\n",
       "      <td>4x6costarplate.mask</td>\n",
       "      <td>C:\\Users\\Public\\Documents\\GelCount\\Data\\Data_2...</td>\n",
       "      <td>ABT888</td>\n",
       "    </tr>\n",
       "    <tr>\n",
       "      <th>3</th>\n",
       "      <td>1</td>\n",
       "      <td>UWB1 AS</td>\n",
       "      <td>0.00</td>\n",
       "      <td>4</td>\n",
       "      <td>B01</td>\n",
       "      <td>1500</td>\n",
       "      <td>896.31486</td>\n",
       "      <td>47606.746091</td>\n",
       "      <td>325</td>\n",
       "      <td>345.915802</td>\n",
       "      <td>...</td>\n",
       "      <td>606.601501</td>\n",
       "      <td>509.362305</td>\n",
       "      <td>24-04-2019</td>\n",
       "      <td>12:15:55</td>\n",
       "      <td>6-Well</td>\n",
       "      <td>600</td>\n",
       "      <td>UWB1.charm</td>\n",
       "      <td>4x6costarplate.mask</td>\n",
       "      <td>C:\\Users\\Public\\Documents\\GelCount\\Data\\Data_2...</td>\n",
       "      <td>ABT888</td>\n",
       "    </tr>\n",
       "    <tr>\n",
       "      <th>4</th>\n",
       "      <td>1</td>\n",
       "      <td>UWB1 RNF20si#1</td>\n",
       "      <td>0.00</td>\n",
       "      <td>5</td>\n",
       "      <td>B02</td>\n",
       "      <td>1500</td>\n",
       "      <td>896.31486</td>\n",
       "      <td>40978.131065</td>\n",
       "      <td>163</td>\n",
       "      <td>307.475098</td>\n",
       "      <td>...</td>\n",
       "      <td>775.639404</td>\n",
       "      <td>679.613831</td>\n",
       "      <td>24-04-2019</td>\n",
       "      <td>12:15:55</td>\n",
       "      <td>6-Well</td>\n",
       "      <td>600</td>\n",
       "      <td>UWB1.charm</td>\n",
       "      <td>4x6costarplate.mask</td>\n",
       "      <td>C:\\Users\\Public\\Documents\\GelCount\\Data\\Data_2...</td>\n",
       "      <td>ABT888</td>\n",
       "    </tr>\n",
       "  </tbody>\n",
       "</table>\n",
       "<p>5 rows × 33 columns</p>\n",
       "</div>"
      ],
      "text/plain": [
       "   Plate Experiment Title  Treatment  Well Label  Cells Plated  \\\n",
       "0      1          UWB1 AS       3.75     1   A01          1500   \n",
       "1      1   UWB1 RNF20si#1       3.75     2   A02          1500   \n",
       "2      1   UWB1 RNF20si#3       3.75     3   A03          1500   \n",
       "3      1          UWB1 AS       0.00     4   B01          1500   \n",
       "4      1   UWB1 RNF20si#1       0.00     5   B02          1500   \n",
       "\n",
       "   Mask Area (mm^2)  Mask Area Total Density (OD)  Count  \\\n",
       "0         896.31486                  41735.860957    122   \n",
       "1         896.31486                  38163.987130     29   \n",
       "2         896.31486                  38314.242127     44   \n",
       "3         896.31486                  47606.746091    325   \n",
       "4         896.31486                  40978.131065    163   \n",
       "\n",
       "   Diameter Average (um)  ...  Nearest Neighbour Average (um)  \\\n",
       "0             285.641022  ...                      945.153870   \n",
       "1             279.398102  ...                      988.933472   \n",
       "2             268.752289  ...                     1172.009277   \n",
       "3             345.915802  ...                      606.601501   \n",
       "4             307.475098  ...                      775.639404   \n",
       "\n",
       "   Nearest Neighbour StdDev   Read-date  Read-time  Plate Type  \\\n",
       "0               1024.892700  24-04-2019   12:15:55      6-Well   \n",
       "1                739.075073  24-04-2019   12:15:55      6-Well   \n",
       "2               1163.347046  24-04-2019   12:15:55      6-Well   \n",
       "3                509.362305  24-04-2019   12:15:55      6-Well   \n",
       "4                679.613831  24-04-2019   12:15:55      6-Well   \n",
       "\n",
       "   Resolution Setting  CHARM Settings File   Mask Settings File  \\\n",
       "0                 600           UWB1.charm  4x6costarplate.mask   \n",
       "1                 600           UWB1.charm  4x6costarplate.mask   \n",
       "2                 600           UWB1.charm  4x6costarplate.mask   \n",
       "3                 600           UWB1.charm  4x6costarplate.mask   \n",
       "4                 600           UWB1.charm  4x6costarplate.mask   \n",
       "\n",
       "                                          Image File    Drug  \n",
       "0  C:\\Users\\Public\\Documents\\GelCount\\Data\\Data_2...  ABT888  \n",
       "1  C:\\Users\\Public\\Documents\\GelCount\\Data\\Data_2...  ABT888  \n",
       "2  C:\\Users\\Public\\Documents\\GelCount\\Data\\Data_2...  ABT888  \n",
       "3  C:\\Users\\Public\\Documents\\GelCount\\Data\\Data_2...  ABT888  \n",
       "4  C:\\Users\\Public\\Documents\\GelCount\\Data\\Data_2...  ABT888  \n",
       "\n",
       "[5 rows x 33 columns]"
      ]
     },
     "execution_count": 15,
     "metadata": {},
     "output_type": "execute_result"
    }
   ],
   "source": [
    "path = fc._path\n",
    "df = pp.read_dir(path)\n",
    "df.head()"
   ]
  },
  {
   "cell_type": "markdown",
   "metadata": {},
   "source": [
    "Split the 'Experiment Title' into the cell line and the Knock down"
   ]
  },
  {
   "cell_type": "code",
   "execution_count": 9,
   "metadata": {},
   "outputs": [],
   "source": [
    "pp.split_title(df,['Cell_line','KD_RNF20'])"
   ]
  },
  {
   "cell_type": "markdown",
   "metadata": {},
   "source": [
    "Calculate the Plating Efficency (PE) and Survival Fraction (SF)"
   ]
  },
  {
   "cell_type": "code",
   "execution_count": 10,
   "metadata": {},
   "outputs": [],
   "source": [
    "pp.calculate_PE_and_SF(df)"
   ]
  },
  {
   "cell_type": "markdown",
   "metadata": {},
   "source": [
    "Plot the results"
   ]
  },
  {
   "cell_type": "code",
   "execution_count": 11,
   "metadata": {},
   "outputs": [
    {
     "data": {
      "text/plain": [
       "Text(0.5, 0, 'Drug concentration')"
      ]
     },
     "execution_count": 11,
     "metadata": {},
     "output_type": "execute_result"
    },
    {
     "data": {
      "image/png": "[encoded data removed]",
      "text/plain": [
       "<Figure size 432x720 with 2 Axes>"
      ]
     },
     "metadata": {
      "needs_background": "light"
     },
     "output_type": "display_data"
    }
   ],
   "source": [
    "\n",
    "fig, axs = plt.subplots(2,1,sharex=True,figsize=(6,10),sharey=True)\n",
    "for j,cell_line in enumerate(df['Cell_line'].unique()):\n",
    "    for i,kd in enumerate(df['KD_RNF20'].unique()):\n",
    "        mask = (df['Cell_line']==cell_line)&(df['KD_RNF20']==kd)\n",
    "        drug = df.loc[mask,'Drug'].unique()[0]\n",
    "        axs[j].plot( df.loc[mask,'Treatment'],df.loc[mask,'SF'],'o',label=\"{}:{}\".format(cell_line,kd))\n",
    "        axs[j].legend()\n",
    "        axs[j].set_ylabel(\"Surviving Fraction\")\n",
    "        axs[j].annotate(\"Drug: {}\".format(drug),xy=(0.2,0.9),xycoords='axes fraction')\n",
    "\n",
    "axs[-1].set_xlabel(\"Drug concentration\")"
   ]
  },
  {
   "cell_type": "markdown",
   "metadata": {},
   "source": [
    "Save the combined results"
   ]
  },
  {
   "cell_type": "code",
   "execution_count": 12,
   "metadata": {},
   "outputs": [],
   "source": [
    "df.to_csv(os.path.join(path,\"combined_results.csv\"))"
   ]
  },
  {
   "cell_type": "code",
   "execution_count": null,
   "metadata": {},
   "outputs": [],
   "source": []
  }
 ],
 "metadata": {
  "anaconda-cloud": {},
  "kernelspec": {
   "display_name": "Python 3",
   "language": "python",
   "name": "python3"
  },
  "language_info": {
   "codemirror_mode": {
    "name": "ipython",
    "version": 3
   },
   "file_extension": ".py",
   "mimetype": "text/x-python",
   "name": "python",
   "nbconvert_exporter": "python",
   "pygments_lexer": "ipython3",
   "version": "3.7.3"
  }
 },
 "nbformat": 4,
 "nbformat_minor": 2
}
